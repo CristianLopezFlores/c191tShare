{
 "cells": [
  {
   "cell_type": "markdown",
   "metadata": {},
   "source": [
    "# MNIST-Digit Recognizer\n",
    "use Classifiers to identify digits from thousands of hand written images."
   ]
  },
  {
   "cell_type": "code",
   "execution_count": 97,
   "metadata": {
    "collapsed": true
   },
   "outputs": [],
   "source": [
    "#import needed and potentially need libraries, packages and classifiers\n",
    "import numpy as np\n",
    "import pandas as pd \n",
    "import matplotlib\n",
    "from matplotlib import pyplot as plt\n",
    "from sklearn.ensemble import RandomForestClassifier\n",
    "from sklearn.tree import DecisionTreeClassifier\n",
    "from sklearn.model_selection import KFold\n",
    "from sklearn.model_selection import cross_val_score\n",
    "from sklearn.neighbors import KNeighborsClassifier\n",
    "from sklearn import cross_validation\n",
    "k_fold = KFold(n_splits=10, shuffle=True, random_state=0)\n",
    "%matplotlib inline\n",
    "knn= KNeighborsClassifier(n_neighbors=10, algorithm=\"auto\", n_jobs=4)"
   ]
  },
  {
   "cell_type": "code",
   "execution_count": 98,
   "metadata": {},
   "outputs": [
    {
     "name": "stdout",
     "output_type": "stream",
     "text": [
      "<class 'pandas.core.frame.DataFrame'>\n",
      "RangeIndex: 42000 entries, 0 to 41999\n",
      "Columns: 785 entries, label to pixel783\n",
      "dtypes: int64(785)\n",
      "memory usage: 251.5 MB\n"
     ]
    }
   ],
   "source": [
    "data=pd.read_csv('train.csv')\n",
    "data.info()"
   ]
  },
  {
   "cell_type": "code",
   "execution_count": 99,
   "metadata": {},
   "outputs": [
    {
     "name": "stdout",
     "output_type": "stream",
     "text": [
      "       label  pixel0  pixel1  pixel2  pixel3  pixel4  pixel5  pixel6  pixel7  \\\n",
      "0          1       0       0       0       0       0       0       0       0   \n",
      "1          0       0       0       0       0       0       0       0       0   \n",
      "2          1       0       0       0       0       0       0       0       0   \n",
      "3          4       0       0       0       0       0       0       0       0   \n",
      "4          0       0       0       0       0       0       0       0       0   \n",
      "5          0       0       0       0       0       0       0       0       0   \n",
      "6          7       0       0       0       0       0       0       0       0   \n",
      "7          3       0       0       0       0       0       0       0       0   \n",
      "8          5       0       0       0       0       0       0       0       0   \n",
      "9          3       0       0       0       0       0       0       0       0   \n",
      "10         8       0       0       0       0       0       0       0       0   \n",
      "11         9       0       0       0       0       0       0       0       0   \n",
      "12         1       0       0       0       0       0       0       0       0   \n",
      "13         3       0       0       0       0       0       0       0       0   \n",
      "14         3       0       0       0       0       0       0       0       0   \n",
      "15         1       0       0       0       0       0       0       0       0   \n",
      "16         2       0       0       0       0       0       0       0       0   \n",
      "17         0       0       0       0       0       0       0       0       0   \n",
      "18         7       0       0       0       0       0       0       0       0   \n",
      "19         5       0       0       0       0       0       0       0       0   \n",
      "20         8       0       0       0       0       0       0       0       0   \n",
      "21         6       0       0       0       0       0       0       0       0   \n",
      "22         2       0       0       0       0       0       0       0       0   \n",
      "23         0       0       0       0       0       0       0       0       0   \n",
      "24         2       0       0       0       0       0       0       0       0   \n",
      "25         3       0       0       0       0       0       0       0       0   \n",
      "26         6       0       0       0       0       0       0       0       0   \n",
      "27         9       0       0       0       0       0       0       0       0   \n",
      "28         9       0       0       0       0       0       0       0       0   \n",
      "29         7       0       0       0       0       0       0       0       0   \n",
      "...      ...     ...     ...     ...     ...     ...     ...     ...     ...   \n",
      "41970      2       0       0       0       0       0       0       0       0   \n",
      "41971      3       0       0       0       0       0       0       0       0   \n",
      "41972      4       0       0       0       0       0       0       0       0   \n",
      "41973      4       0       0       0       0       0       0       0       0   \n",
      "41974      3       0       0       0       0       0       0       0       0   \n",
      "41975      9       0       0       0       0       0       0       0       0   \n",
      "41976      2       0       0       0       0       0       0       0       0   \n",
      "41977      4       0       0       0       0       0       0       0       0   \n",
      "41978      4       0       0       0       0       0       0       0       0   \n",
      "41979      4       0       0       0       0       0       0       0       0   \n",
      "41980      7       0       0       0       0       0       0       0       0   \n",
      "41981      2       0       0       0       0       0       0       0       0   \n",
      "41982      8       0       0       0       0       0       0       0       0   \n",
      "41983      7       0       0       0       0       0       0       0       0   \n",
      "41984      3       0       0       0       0       0       0       0       0   \n",
      "41985      3       0       0       0       0       0       0       0       0   \n",
      "41986      0       0       0       0       0       0       0       0       0   \n",
      "41987      5       0       0       0       0       0       0       0       0   \n",
      "41988      0       0       0       0       0       0       0       0       0   \n",
      "41989      5       0       0       0       0       0       0       0       0   \n",
      "41990      3       0       0       0       0       0       0       0       0   \n",
      "41991      1       0       0       0       0       0       0       0       0   \n",
      "41992      9       0       0       0       0       0       0       0       0   \n",
      "41993      6       0       0       0       0       0       0       0       0   \n",
      "41994      4       0       0       0       0       0       0       0       0   \n",
      "41995      0       0       0       0       0       0       0       0       0   \n",
      "41996      1       0       0       0       0       0       0       0       0   \n",
      "41997      7       0       0       0       0       0       0       0       0   \n",
      "41998      6       0       0       0       0       0       0       0       0   \n",
      "41999      9       0       0       0       0       0       0       0       0   \n",
      "\n",
      "       pixel8    ...     pixel774  pixel775  pixel776  pixel777  pixel778  \\\n",
      "0           0    ...            0         0         0         0         0   \n",
      "1           0    ...            0         0         0         0         0   \n",
      "2           0    ...            0         0         0         0         0   \n",
      "3           0    ...            0         0         0         0         0   \n",
      "4           0    ...            0         0         0         0         0   \n",
      "5           0    ...            0         0         0         0         0   \n",
      "6           0    ...            0         0         0         0         0   \n",
      "7           0    ...            0         0         0         0         0   \n",
      "8           0    ...            0         0         0         0         0   \n",
      "9           0    ...            0         0         0         0         0   \n",
      "10          0    ...            0         0         0         0         0   \n",
      "11          0    ...            0         0         0         0         0   \n",
      "12          0    ...            0         0         0         0         0   \n",
      "13          0    ...            0         0         0         0         0   \n",
      "14          0    ...            0         0         0         0         0   \n",
      "15          0    ...            0         0         0         0         0   \n",
      "16          0    ...            0         0         0         0         0   \n",
      "17          0    ...            0         0         0         0         0   \n",
      "18          0    ...            0         0         0         0         0   \n",
      "19          0    ...            0         0         0         0         0   \n",
      "20          0    ...            0         0         0         0         0   \n",
      "21          0    ...            0         0         0         0         0   \n",
      "22          0    ...            0         0         0         0         0   \n",
      "23          0    ...            0         0         0         0         0   \n",
      "24          0    ...            0         0         0         0         0   \n",
      "25          0    ...            0         0         0         0         0   \n",
      "26          0    ...            0         0         0         0         0   \n",
      "27          0    ...            0         0         0         0         0   \n",
      "28          0    ...            0         0         0         0         0   \n",
      "29          0    ...            0         0         0         0         0   \n",
      "...       ...    ...          ...       ...       ...       ...       ...   \n",
      "41970       0    ...            0         0         0         0         0   \n",
      "41971       0    ...            0         0         0         0         0   \n",
      "41972       0    ...            0         0         0         0         0   \n",
      "41973       0    ...            0         0         0         0         0   \n",
      "41974       0    ...            0         0         0         0         0   \n",
      "41975       0    ...            0         0         0         0         0   \n",
      "41976       0    ...            0         0         0         0         0   \n",
      "41977       0    ...            0         0         0         0         0   \n",
      "41978       0    ...            0         0         0         0         0   \n",
      "41979       0    ...            0         0         0         0         0   \n",
      "41980       0    ...           27       253       110         0         0   \n",
      "41981       0    ...            0         0         0         0         0   \n",
      "41982       0    ...            0         0         0         0         0   \n",
      "41983       0    ...            0         0         0         0         0   \n",
      "41984       0    ...            0         0         0         0         0   \n",
      "41985       0    ...            0         0         0         0         0   \n",
      "41986       0    ...            0         0         0         0         0   \n",
      "41987       0    ...            0         0         0         0         0   \n",
      "41988       0    ...            0         0         0         0         0   \n",
      "41989       0    ...            0         0         0         0         0   \n",
      "41990       0    ...            0         0         0         0         0   \n",
      "41991       0    ...            0         0         0         0         0   \n",
      "41992       0    ...            0         0         0         0         0   \n",
      "41993       0    ...            0         0         0         0         0   \n",
      "41994       0    ...            0         0         0         0         0   \n",
      "41995       0    ...            0         0         0         0         0   \n",
      "41996       0    ...            0         0         0         0         0   \n",
      "41997       0    ...            0         0         0         0         0   \n",
      "41998       0    ...            0         0         0         0         0   \n",
      "41999       0    ...            0         0         0         0         0   \n",
      "\n",
      "       pixel779  pixel780  pixel781  pixel782  pixel783  \n",
      "0             0         0         0         0         0  \n",
      "1             0         0         0         0         0  \n",
      "2             0         0         0         0         0  \n",
      "3             0         0         0         0         0  \n",
      "4             0         0         0         0         0  \n",
      "5             0         0         0         0         0  \n",
      "6             0         0         0         0         0  \n",
      "7             0         0         0         0         0  \n",
      "8             0         0         0         0         0  \n",
      "9             0         0         0         0         0  \n",
      "10            0         0         0         0         0  \n",
      "11            0         0         0         0         0  \n",
      "12            0         0         0         0         0  \n",
      "13            0         0         0         0         0  \n",
      "14            0         0         0         0         0  \n",
      "15            0         0         0         0         0  \n",
      "16            0         0         0         0         0  \n",
      "17            0         0         0         0         0  \n",
      "18            0         0         0         0         0  \n",
      "19            0         0         0         0         0  \n",
      "20            0         0         0         0         0  \n",
      "21            0         0         0         0         0  \n",
      "22            0         0         0         0         0  \n",
      "23            0         0         0         0         0  \n",
      "24            0         0         0         0         0  \n",
      "25            0         0         0         0         0  \n",
      "26            0         0         0         0         0  \n",
      "27            0         0         0         0         0  \n",
      "28            0         0         0         0         0  \n",
      "29            0         0         0         0         0  \n",
      "...         ...       ...       ...       ...       ...  \n",
      "41970         0         0         0         0         0  \n",
      "41971         0         0         0         0         0  \n",
      "41972         0         0         0         0         0  \n",
      "41973         0         0         0         0         0  \n",
      "41974         0         0         0         0         0  \n",
      "41975         0         0         0         0         0  \n",
      "41976         0         0         0         0         0  \n",
      "41977         0         0         0         0         0  \n",
      "41978         0         0         0         0         0  \n",
      "41979         0         0         0         0         0  \n",
      "41980         0         0         0         0         0  \n",
      "41981         0         0         0         0         0  \n",
      "41982         0         0         0         0         0  \n",
      "41983         0         0         0         0         0  \n",
      "41984         0         0         0         0         0  \n",
      "41985         0         0         0         0         0  \n",
      "41986         0         0         0         0         0  \n",
      "41987         0         0         0         0         0  \n",
      "41988         0         0         0         0         0  \n",
      "41989         0         0         0         0         0  \n",
      "41990         0         0         0         0         0  \n",
      "41991         0         0         0         0         0  \n",
      "41992         0         0         0         0         0  \n",
      "41993         0         0         0         0         0  \n",
      "41994         0         0         0         0         0  \n",
      "41995         0         0         0         0         0  \n",
      "41996         0         0         0         0         0  \n",
      "41997         0         0         0         0         0  \n",
      "41998         0         0         0         0         0  \n",
      "41999         0         0         0         0         0  \n",
      "\n",
      "[42000 rows x 785 columns]\n"
     ]
    }
   ],
   "source": [
    "print(data)"
   ]
  },
  {
   "cell_type": "code",
   "execution_count": 100,
   "metadata": {},
   "outputs": [
    {
     "data": {
      "text/plain": [
       "<matplotlib.image.AxesImage at 0x1a601e1ba8>"
      ]
     },
     "execution_count": 100,
     "metadata": {},
     "output_type": "execute_result"
    },
    {
     "data": {
      "image/png": "[encoded data removed]",
      "text/plain": [
       "<matplotlib.figure.Figure at 0x1a60204ac8>"
      ]
     },
     "metadata": {},
     "output_type": "display_data"
    }
   ],
   "source": [
    "alph=data.iloc[3,1:].values\n",
    "alph=alph.reshape(28,28).astype('uint8')\n",
    "plt.imshow(alph)"
   ]
  },
  {
   "cell_type": "code",
   "execution_count": 101,
   "metadata": {
    "collapsed": true
   },
   "outputs": [],
   "source": [
    "labels= data['label'].as_matrix()\n",
    "features= data.as_matrix()[:, 1:]"
   ]
  },
  {
   "cell_type": "code",
   "execution_count": 102,
   "metadata": {},
   "outputs": [
    {
     "name": "stdout",
     "output_type": "stream",
     "text": [
      "[1 0 1 ..., 7 6 9]\n"
     ]
    }
   ],
   "source": [
    "print(labels)"
   ]
  },
  {
   "cell_type": "code",
   "execution_count": 103,
   "metadata": {},
   "outputs": [
    {
     "name": "stdout",
     "output_type": "stream",
     "text": [
      "[[0 0 0 ..., 0 0 0]\n",
      " [0 0 0 ..., 0 0 0]\n",
      " [0 0 0 ..., 0 0 0]\n",
      " ..., \n",
      " [0 0 0 ..., 0 0 0]\n",
      " [0 0 0 ..., 0 0 0]\n",
      " [0 0 0 ..., 0 0 0]]\n"
     ]
    }
   ],
   "source": [
    "print(features)"
   ]
  },
  {
   "cell_type": "code",
   "execution_count": 104,
   "metadata": {},
   "outputs": [
    {
     "data": {
      "image/png": "[encoded data removed]",
      "text/plain": [
       "<matplotlib.figure.Figure at 0x1a60204780>"
      ]
     },
     "metadata": {},
     "output_type": "display_data"
    }
   ],
   "source": [
    "plt.figure(5)\n",
    "plt.imshow(features[6, :].reshape(28,28), cmap='gray', interpolation=None)\n",
    "plt.show()"
   ]
  },
  {
   "cell_type": "code",
   "execution_count": 105,
   "metadata": {},
   "outputs": [
    {
     "name": "stdout",
     "output_type": "stream",
     "text": [
      "<class 'pandas.core.frame.DataFrame'>\n",
      "RangeIndex: 28000 entries, 0 to 27999\n",
      "Columns: 784 entries, pixel0 to pixel783\n",
      "dtypes: int64(784)\n",
      "memory usage: 167.5 MB\n"
     ]
    }
   ],
   "source": [
    "test=pd.read_csv('test.csv')\n",
    "test.info()"
   ]
  },
  {
   "cell_type": "code",
   "execution_count": 106,
   "metadata": {
    "collapsed": true
   },
   "outputs": [],
   "source": [
    "data=pd.read_csv('train.csv')\n",
    "test=pd.read_csv('test.csv')"
   ]
  },
  {
   "cell_type": "code",
   "execution_count": 107,
   "metadata": {
    "collapsed": true
   },
   "outputs": [],
   "source": [
    "#create an accuracy function \n",
    "def acc(pred):\n",
    "    i=0\n",
    "    for i in range(len(pred)):\n",
    "        if pred[i]==data[\"label\"][i]:\n",
    "            i+=1\n",
    "    a = float(i)/len(pred)\n",
    "    return a"
   ]
  },
  {
   "cell_type": "code",
   "execution_count": 108,
   "metadata": {
    "collapsed": true
   },
   "outputs": [],
   "source": [
    "\n",
    "pred = []\n",
    "for i in range(784):\n",
    "    s = \"pixel\"+str(i)\n",
    "    pred.append(s)"
   ]
  },
  {
   "cell_type": "code",
   "execution_count": 109,
   "metadata": {
    "collapsed": true
   },
   "outputs": [],
   "source": [
    "#using random forest classifier and cross validation to make predictions.\n",
    "clf = RandomForestClassifier(random_state=1, n_estimators=150, min_samples_split=2, min_samples_leaf=1)\n"
   ]
  },
  {
   "cell_type": "code",
   "execution_count": 110,
   "metadata": {
    "collapsed": true
   },
   "outputs": [],
   "source": [
    "points = cross_validation.cross_val_score(clf, data[pred], data[\"label\"], cv=3)"
   ]
  },
  {
   "cell_type": "code",
   "execution_count": 111,
   "metadata": {},
   "outputs": [
    {
     "data": {
      "text/plain": [
       "array([[ 0.        ,  1.        ,  0.        , ...,  0.        ,\n",
       "         0.        ,  0.        ],\n",
       "       [ 1.        ,  0.        ,  0.        , ...,  0.        ,\n",
       "         0.        ,  0.        ],\n",
       "       [ 0.        ,  1.        ,  0.        , ...,  0.        ,\n",
       "         0.        ,  0.        ],\n",
       "       ..., \n",
       "       [ 0.        ,  0.        ,  0.        , ...,  0.99333333,\n",
       "         0.00666667,  0.        ],\n",
       "       [ 0.        ,  0.        ,  0.        , ...,  0.        ,\n",
       "         0.        ,  0.        ],\n",
       "       [ 0.        ,  0.        ,  0.00666667, ...,  0.03333333,\n",
       "         0.00666667,  0.88666667]])"
      ]
     },
     "execution_count": 111,
     "metadata": {},
     "output_type": "execute_result"
    }
   ],
   "source": [
    "complete_pred = []\n",
    "clf.fit(data[pred], data[\"label\"])\n",
    "predn = clf.predict_proba(data[pred]).astype(float)\n",
    "predn"
   ]
  },
  {
   "cell_type": "code",
   "execution_count": 112,
   "metadata": {},
   "outputs": [
    {
     "data": {
      "text/plain": [
       "array([1, 0, 1, ..., 7, 6, 9])"
      ]
     },
     "execution_count": 112,
     "metadata": {},
     "output_type": "execute_result"
    }
   ],
   "source": [
    "predn = predn.argmax(axis=1)\n",
    "predn"
   ]
  },
  {
   "cell_type": "code",
   "execution_count": 113,
   "metadata": {},
   "outputs": [
    {
     "data": {
      "text/plain": [
       "array([2, 0, 9, ..., 3, 9, 2])"
      ]
     },
     "execution_count": 113,
     "metadata": {},
     "output_type": "execute_result"
    }
   ],
   "source": [
    "data=pd.read_csv('train.csv')\n",
    "\n",
    "complete_pred = []\n",
    "clf.fit(data[pred], data[\"label\"])\n",
    "predn = clf.predict_proba(test[pred]).astype(float)\n",
    "predn = predn.argmax(axis=1)\n",
    "predn\n"
   ]
  },
  {
   "cell_type": "code",
   "execution_count": 114,
   "metadata": {
    "collapsed": true
   },
   "outputs": [],
   "source": [
    "#create result file\n",
    "sub = pd.DataFrame({\n",
    "    \"ImageId\": range(1,28001),\n",
    "    \"Label\": predn\n",
    "})\n",
    "\n",
    "sub.to_csv('sub.csv', index=False)"
   ]
  },
  {
   "cell_type": "code",
   "execution_count": null,
   "metadata": {
    "collapsed": true
   },
   "outputs": [],
   "source": []
  }
 ],
 "metadata": {
  "kernelspec": {
   "display_name": "Python 3",
   "language": "python",
   "name": "python3"
  },
  "language_info": {
   "codemirror_mode": {
    "name": "ipython",
    "version": 3
   },
   "file_extension": ".py",
   "mimetype": "text/x-python",
   "name": "python",
   "nbconvert_exporter": "python",
   "pygments_lexer": "ipython3",
   "version": "3.6.3"
  }
 },
 "nbformat": 4,
 "nbformat_minor": 2
}
